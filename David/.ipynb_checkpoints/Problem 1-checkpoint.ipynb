{
 "cells": [
  {
   "cell_type": "markdown",
   "id": "authentic-minute",
   "metadata": {},
   "source": [
    "# What is the probability of being positive for Covid-19 if a pool tests positive?"
   ]
  },
  {
   "cell_type": "markdown",
   "id": "dated-video",
   "metadata": {},
   "source": [
    "In order to calculate the probability for a single test, we need to know the prevelence of Covid-19 and the accuracy of the test. According to [the CDC](https://covid.cdc.gov/covid-data-tracker/), given the current US population of 331.43 million, Covid-19 has a prevelence of 9.3% in the United States. (This estimation could be improved or tweaked if you consider only New York or only Eerie County). The second most important number is the accuracy of the tests for the disease. University at Buffalo has recently switched to saliva testing for their testing. The sensitivity and specificity for this type of test was calculated been rated to be 83% sensitive, and 98.9% specific. With this, we can calculate the chance that an individuals test is positive."
   ]
  },
  {
   "cell_type": "markdown",
   "id": "universal-forty",
   "metadata": {},
   "source": [
    "## Bayes Rule"
   ]
  },
  {
   "cell_type": "markdown",
   "id": "unlikely-singing",
   "metadata": {},
   "source": [
    "To now calculate things, we need to use Bayes' rule of probability based on prior events. With this we can test what the probability of being infected given that a test result came back positive.\n",
    "The rule is as follows:\n",
    "$P(A | B) = \\frac{P(B | A)P(A)}{P(B)}$\\\n",
    "For our calculation that means $P(Infected | Positive) = \\frac{P(Positive | Infected)P(Infected)}{P(Positive)}$. In english, this says the chance that you are infected given a positive test result is equalt to the chance that you have a positive test result given an infected test sample times the chance that you are infected divided by the chance that you get a positive test result. Calculating these values is as follows:\n",
    "$P(Positive) = P(Accuracy) \\cdot P(Infected) + P(Inaccuracy) \\cdot P(Uninfected)$\\\n",
    "Here, we can calculate accuracy with specificity and sensitivity with $Accuracy = (Sensitivity)(Prevalance)+(Specificity)(1-Prevelance)$ (prevalace is just $P(Infected)$); we also know the chance of infected in the US, and so because the total percentages must add up to one, we know that $P(Inaccuracy)=1-P(Accuracy)$ and $P(Uninfected)=1-P(Infected)$ given that there are only two states to either. You are either accuracte or inaccurate and you are either infected or unifected. Therefore there are four outcomes with these two variables and negative has a similar form:\n",
    "$P(Negative) = P(Accuracy) \\cdot P(Uninfected) + P(Inaccuracy) \\cdot P(Infected)$\\\n",
    "Here $P(accuracy)$ represents both $P(Postitive | Infected)$ and $P(Negative | Uninfected)$, so with this we can calculate all our values."
   ]
  },
  {
   "cell_type": "markdown",
   "id": "expected-infrared",
   "metadata": {},
   "source": [
    "### A Single Test"
   ]
  },
  {
   "cell_type": "code",
   "execution_count": 1,
   "id": "compressed-credit",
   "metadata": {},
   "outputs": [],
   "source": [
    "import tensorflow as tf\n",
    "import tensorflow_probability as tfp\n",
    "import matplotlib.pyplot as plt"
   ]
  },
  {
   "cell_type": "code",
   "execution_count": 2,
   "id": "computational-watson",
   "metadata": {},
   "outputs": [
    {
     "name": "stdout",
     "output_type": "stream",
     "text": [
      "The accuracy of the drool test is 97.42%\n"
     ]
    }
   ],
   "source": [
    "sensitivity = tf.constant(0.83)\n",
    "specificity = tf.constant(0.989)\n",
    "probInfected = tf.constant(0.093)\n",
    "probAccuracy = sensitivity*(probInfected)+specificity*(1-probInfected)\n",
    "tf.print(\"The accuracy of the drool test is {0:2.2f}%\".format(probAccuracy*100))\n",
    "probInaccuracy = 1 - probAccuracy\n",
    "probUninfected = 1 - probInfected\n",
    "probPositive = probAccuracy*probInfected + probInaccuracy*probUninfected\n",
    "probNegative = probAccuracy*probUninfected + probInaccuracy*probInfected"
   ]
  },
  {
   "cell_type": "code",
   "execution_count": 3,
   "id": "scenic-basic",
   "metadata": {},
   "outputs": [
    {
     "name": "stdout",
     "output_type": "stream",
     "text": [
      "The chance of testing positive is 11.40%\n",
      "The chance of testing negative is 88.60%\n"
     ]
    }
   ],
   "source": [
    "tf.print(\"The chance of testing positive is {0:2.2f}%\".format(probPositive*100))\n",
    "tf.print(\"The chance of testing negative is {0:2.2f}%\".format(probNegative*100))"
   ]
  },
  {
   "cell_type": "code",
   "execution_count": 4,
   "id": "flush-incentive",
   "metadata": {},
   "outputs": [
    {
     "name": "stdout",
     "output_type": "stream",
     "text": [
      "The probability that someone is infected given a positive test result is 79.48%\n"
     ]
    }
   ],
   "source": [
    "probInfPos = probAccuracy*probInfected/probPositive\n",
    "tf.print(\"The probability that someone is infected given a positive test result is {0:2.2f}%\".format(probInfPos*100))"
   ]
  },
  {
   "cell_type": "markdown",
   "id": "infrared-modern",
   "metadata": {},
   "source": [
    "This is extremely unintuitive when seeing that the accuracy of the test is 97.42% but this paradox is from the fact that all these choices are random without taking into account anything from anyones life. The test does however give much more assurance to most people who test negative. This is not part of this problem, but it is worth looking at."
   ]
  },
  {
   "cell_type": "code",
   "execution_count": 5,
   "id": "fifth-clock",
   "metadata": {},
   "outputs": [
    {
     "name": "stdout",
     "output_type": "stream",
     "text": [
      "The probability that everyone is uninfected given a negative test result is 99.73%\n"
     ]
    }
   ],
   "source": [
    "probUninfNeg = probAccuracy*probUninfected/probNegative\n",
    "tf.print(\"The probability that everyone is uninfected given a negative test result is {0:2.2f}%\".format(probUninfNeg*100))"
   ]
  },
  {
   "cell_type": "markdown",
   "id": "equal-conclusion",
   "metadata": {},
   "source": [
    "### A Pool of Tested Positive"
   ]
  },
  {
   "cell_type": "markdown",
   "id": "decent-mentor",
   "metadata": {},
   "source": [
    "Well, sometimes tests can be expensive, so if you need to test large amounts of people, it may benefit you to pool a sample of tests into a single test, then test each individual if it comes back positive. So now we need to determine what are the odds of you being infected if a pool of people are positive. In UB's case, pool sizes are of 12 people. Now we look at:\n",
    "$P(Infected|Pool+)=P(Pool+|Infected)\\frac{P(Infected)}{P(Pool+)}$"
   ]
  },
  {
   "cell_type": "code",
   "execution_count": 6,
   "id": "strong-pillow",
   "metadata": {},
   "outputs": [],
   "source": [
    "k = 12 # This is the size of the pool\n",
    "count = tfp.distributions.Binomial(k, probs=probInfected)\n",
    "xval = tf.linspace(0,k,k+1)\n",
    "g = []\n",
    "for x in xval:\n",
    "    g.append(count.prob(float(x)))"
   ]
  },
  {
   "cell_type": "code",
   "execution_count": 7,
   "id": "other-presence",
   "metadata": {},
   "outputs": [
    {
     "data": {
      "image/png": "[encoded data removed]",
      "text/plain": [
       "<Figure size 432x288 with 1 Axes>"
      ]
     },
     "metadata": {
      "needs_background": "light"
     },
     "output_type": "display_data"
    }
   ],
   "source": [
    "plt.plot(xval,g,'D')\n",
    "plt.title(\"Chances of x Being Infected out of {0}\".format(k))\n",
    "plt.xlabel('Number of People')\n",
    "plt.ylabel('Chahnces of Infection')\n",
    "# plt.xticks(range(k+1))\n",
    "plt.grid(1)\n",
    "plt.show()"
   ]
  },
  {
   "cell_type": "markdown",
   "id": "incorporate-recruitment",
   "metadata": {},
   "source": [
    "Now we have the chances of having a specific number of people being infected out of a randomly selected group of 12, we can sum the probabilities from 1 to 12 to get the chances of the pool testing positive. We also need to adjust the accuracy of the test and the probability an individual test is positive because the prevelance of the disease has increased."
   ]
  },
  {
   "cell_type": "code",
   "execution_count": 8,
   "id": "organized-massage",
   "metadata": {},
   "outputs": [
    {
     "name": "stdout",
     "output_type": "stream",
     "text": [
      "The probability a pool of 12 people will produce an infected sample is 69.01%\n",
      "This means that the accuracy of the test is now 87.93%\n",
      "The chances that a test will be positive is now 64.42%\n",
      "The probability someone in the pool is infected given a positive result is now 94.19%\n"
     ]
    }
   ],
   "source": [
    "probPoolInf = tf.reduce_sum(g[1:])\n",
    "tf.print(\"The probability a pool of 12 people will produce an infected sample is {0:2.2f}%\".format(probPoolInf*100))\n",
    "\n",
    "probPoolAccuracy = sensitivity*(probPoolInf)+specificity*(1-probPoolInf)\n",
    "tf.print(\"This means that the accuracy of the test is now {0:2.2f}%\".format(probPoolAccuracy*100))\n",
    "\n",
    "probPoolInaccuracy = 1 - probPoolAccuracy\n",
    "probPoolUninf = 1 - probPoolInf\n",
    "\n",
    "probPoolPos = probPoolAccuracy*probPoolInf + probPoolInaccuracy*probPoolUninf\n",
    "probPoolNeg = probPoolAccuracy*probPoolUninf + probPoolInaccuracy*probPoolInf\n",
    "tf.print(\"The chances that a test will be positive is now {0:2.2f}%\".format(probPoolPos*100))\n",
    "\n",
    "probInfPoolPos = probPoolAccuracy*probPoolInf/(probPoolPos)\n",
    "tf.print(\"The probability someone in the pool is infected given a positive result is now {0:2.2f}%\".format(probInfPoolPos*100))"
   ]
  },
  {
   "cell_type": "markdown",
   "id": "rough-dominican",
   "metadata": {},
   "source": [
    "We are almost done! Now that we have the percentages for the pool test, we can now find the chances that a specific individual are sick given a positive pool result! Given by: P(Infected | Pool is positive) = P(Pool is positive)$\\cdot$P(Infected)/P(Pool is Positive)"
   ]
  },
  {
   "cell_type": "code",
   "execution_count": 9,
   "id": "artificial-guatemala",
   "metadata": {},
   "outputs": [
    {
     "name": "stdout",
     "output_type": "stream",
     "text": [
      "The chances that you are infected if you are in a pool of 12 people that tests positive is 12.69%\n"
     ]
    }
   ],
   "source": [
    "probYouInfPoolPos = probPoolAccuracy*probInfected/probPoolPos\n",
    "tf.print(\"The chances that you are infected if you are in a pool of {0} people that tests positive is {1:2.2f}%\".format(k,probYouInfPoolPos*100))"
   ]
  },
  {
   "cell_type": "markdown",
   "id": "western-artwork",
   "metadata": {},
   "source": [
    "This number can be verified by changing the pool sizes to extreme values. For a pool size of 1, this value should become the initial chance of being positive given a test. For a pool size that is large, the value should quickly converge to just the chances of being infected overall. This is because if everyone in the world tests at once, the test becomes completely useless. It will be unable to tell anything about the group, and so your chance should just be the overall chance you started with. If you run the notebook with $k=50$ with the Infection probability being the national average, the chance becomes 9.35%, which is exactly what we expect!"
   ]
  },
  {
   "cell_type": "code",
   "execution_count": null,
   "id": "danish-egyptian",
   "metadata": {},
   "outputs": [],
   "source": []
  }
 ],
 "metadata": {
  "kernelspec": {
   "display_name": "Python 3",
   "language": "python",
   "name": "python3"
  },
  "language_info": {
   "codemirror_mode": {
    "name": "ipython",
    "version": 3
   },
   "file_extension": ".py",
   "mimetype": "text/x-python",
   "name": "python",
   "nbconvert_exporter": "python",
   "pygments_lexer": "ipython3",
   "version": "3.7.3"
  }
 },
 "nbformat": 4,
 "nbformat_minor": 5
}
