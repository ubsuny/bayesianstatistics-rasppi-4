{
 "cells": [
  {
   "cell_type": "markdown",
   "id": "warming-middle",
   "metadata": {},
   "source": [
    "# Problem 1\n",
    "Probability of Covid Given Test Pool Is Positive"
   ]
  },
  {
   "cell_type": "code",
   "execution_count": 16,
   "id": "cardiac-individual",
   "metadata": {},
   "outputs": [],
   "source": [
    "import tensorflow_probability as tfp\n",
    "import numpy as np"
   ]
  },
  {
   "cell_type": "code",
   "execution_count": 17,
   "id": "available-adapter",
   "metadata": {},
   "outputs": [],
   "source": [
    "N = 12 # Number of people in a test pool\n",
    "p = 0.05 # Probability of an individual testing positive for Covid"
   ]
  },
  {
   "cell_type": "code",
   "execution_count": 33,
   "id": "clear-elder",
   "metadata": {},
   "outputs": [],
   "source": [
    "X = tfp.distributions.Binomial(N, logits=None, probs=p)"
   ]
  },
  {
   "cell_type": "code",
   "execution_count": null,
   "id": "deluxe-index",
   "metadata": {},
   "outputs": [],
   "source": []
  },
  {
   "cell_type": "code",
   "execution_count": 42,
   "id": "pointed-compiler",
   "metadata": {},
   "outputs": [],
   "source": [
    "# Ac is the Probabilty your test is negative.\n",
    "# AB is the probability of a positive test for you given the test pool was positive.\n",
    "# BAc is the Probability 1 to N-1 people test positive but not you in your test pool.\n",
    "Ac = 1-p\n",
    "BAc = 0\n",
    "for i in range(1,N-1):\n",
    "    BAc = BAc + X.prob(i)\n",
    "AB = p/(p+(BAc*Ac))\n"
   ]
  },
  {
   "cell_type": "code",
   "execution_count": 49,
   "id": "constant-impression",
   "metadata": {},
   "outputs": [
    {
     "name": "stdout",
     "output_type": "stream",
     "text": [
      "tf.Tensor(0.10274155, shape=(), dtype=float32)\n"
     ]
    }
   ],
   "source": [
    "print(AB)"
   ]
  },
  {
   "cell_type": "code",
   "execution_count": null,
   "id": "corresponding-poster",
   "metadata": {},
   "outputs": [],
   "source": []
  }
 ],
 "metadata": {
  "kernelspec": {
   "display_name": "Python 3",
   "language": "python",
   "name": "python3"
  },
  "language_info": {
   "codemirror_mode": {
    "name": "ipython",
    "version": 3
   },
   "file_extension": ".py",
   "mimetype": "text/x-python",
   "name": "python",
   "nbconvert_exporter": "python",
   "pygments_lexer": "ipython3",
   "version": "3.7.3"
  }
 },
 "nbformat": 4,
 "nbformat_minor": 5
}
