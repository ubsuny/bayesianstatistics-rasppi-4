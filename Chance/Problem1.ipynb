{
 "cells": [
  {
   "cell_type": "markdown",
   "id": "warming-middle",
   "metadata": {},
   "source": [
    "# Problem 1\n",
    "Goal: Probability of Covid Given Test Pool Is Positive."
   ]
  },
  {
   "cell_type": "markdown",
   "id": "hundred-bargain",
   "metadata": {},
   "source": [
    "# Introduction"
   ]
  },
  {
   "cell_type": "markdown",
   "id": "portable-fluid",
   "metadata": {},
   "source": [
    "How it works:\n",
    "\n",
    "N = Number of people in a test pool.\n",
    "\n",
    "p = Percentage chance an individual has covid given a test was done, a number.\n",
    "\n",
    "P(A) = Probability an individual has Covid given a Test was done = p.\n",
    "\n",
    "P(B) = Probability the test pool is postive.\n",
    "\n",
    "P(A|B) = The probability an individual tests positive for covid given the test pool is positive.\n",
    "\n",
    "P(B|A) = The probability the test pool is positive given an individual tests positive in the test pool = 1, because if the individual in the test pool tests postive the whole pool will test positive.\n",
    "\n",
    "P(Ac) = Probability an individual does not have a positive Covid test result.\n",
    "\n",
    "P(B|Ac) = The probability a test pool is postiive given the individual does not have covid, meaning 1 to N-1 people in the pool have covid but not A.\n",
    "\n",
    "The goal of this work is to calculate P(A|B), the probability an individual tests positive for covid given the test pool is positive.\n",
    "\n",
    "Using Bayes Theorem:\n",
    "\n",
    "$P(A|B)=\\frac{P(B|A)P(A)}{P(B|A)P(A)+P(B|Ac)P(Ac)}$\n",
    "\n",
    "Now, P(B|A) = 1 as previously stated, P(A) = p, and P(Ac) = 1 - P(A) = 1 - p.\n",
    "Thus, this reduces to:\n",
    "\n",
    "$P(A|B)=\\frac{p}{p+P(B|Ac)(1-p)}$\n",
    "\n",
    "Now, P(B|Ac) can be calculated using the binomial distribution, which will give us the probability of x sucesses given a probability p, and a number of trials N.\n",
    "\n",
    "Binomial Probability:\n",
    "$P(x;p,n)=\\frac{n!}{x!(n-x)!}p^x(1-p)^{n-x}$\n",
    "\n",
    "This equation is embeded in the Tensorflow probability binomial distribution function which was used.  The results were summed for x = 1 to N-1 sucesses.\n",
    "\n",
    "Now, essentially we can calculate the probability an individual tests positive for Covid given the test pool had a positive result using only p (the probability an individual has covid given a test for covid) and N (the number of people in a test pool)."
   ]
  },
  {
   "cell_type": "code",
   "execution_count": 1,
   "id": "cardiac-individual",
   "metadata": {},
   "outputs": [],
   "source": [
    "import tensorflow_probability as tfp\n",
    "import numpy as np"
   ]
  },
  {
   "cell_type": "markdown",
   "id": "cheap-completion",
   "metadata": {},
   "source": [
    "State N, the number of people in a test pool, and p, the probability of an idividual testing positive for Covid given a test was conducted."
   ]
  },
  {
   "cell_type": "code",
   "execution_count": 2,
   "id": "available-adapter",
   "metadata": {},
   "outputs": [],
   "source": [
    "N = 12 # Number of people in a test pool\n",
    "p = 0.05 # Probability of an individual testing positive for Covid"
   ]
  },
  {
   "cell_type": "markdown",
   "id": "angry-fortune",
   "metadata": {},
   "source": [
    "Create a tensorflow probability binomial distribution."
   ]
  },
  {
   "cell_type": "code",
   "execution_count": 3,
   "id": "clear-elder",
   "metadata": {},
   "outputs": [],
   "source": [
    "X = tfp.distributions.Binomial(N, logits=None, probs=p)"
   ]
  },
  {
   "cell_type": "markdown",
   "id": "forced-ballot",
   "metadata": {},
   "source": [
    "Below, I calculate the probability your result is positive given a positive test pool result."
   ]
  },
  {
   "cell_type": "code",
   "execution_count": 4,
   "id": "pointed-compiler",
   "metadata": {},
   "outputs": [],
   "source": [
    "# AB is the probability of a positive test for you given the test pool was positive.\n",
    "# BAc is the Probability 1 to N-1 people test positive but not you in your test pool.\n",
    "BAc = 0\n",
    "for i in range(1,N-1):\n",
    "    BAc = BAc + X.prob(i)\n",
    "AB = p/(p+(BAc*(1-p)))"
   ]
  },
  {
   "cell_type": "code",
   "execution_count": 5,
   "id": "constant-impression",
   "metadata": {},
   "outputs": [
    {
     "name": "stdout",
     "output_type": "stream",
     "text": [
      "tf.Tensor(0.10274155, shape=(), dtype=float32)\n"
     ]
    }
   ],
   "source": [
    "print(AB)"
   ]
  },
  {
   "cell_type": "markdown",
   "id": "dense-louisiana",
   "metadata": {},
   "source": [
    "The probabily an individual tests positive for covid given the test pool tested positive for covid is 10.27% with an infection precent of 5% and a test pool of 12 people."
   ]
  },
  {
   "cell_type": "markdown",
   "id": "regular-amazon",
   "metadata": {},
   "source": [
    "# References"
   ]
  },
  {
   "cell_type": "markdown",
   "id": "female-acquisition",
   "metadata": {},
   "source": [
    "For Bayes Theorem: https://www.statisticshowto.com/probability-and-statistics/probability-main-index/bayes-theorem-problems/\n",
    "\n",
    "For Binomial Probability: https://www.statisticshowto.com/probability-and-statistics/binomial-theorem/binomial-distribution-formula/\n",
    "\n",
    "For Tensorflow Probability Binomial Distributions: https://www.tensorflow.org/probability/api_docs/python/tfp/distributions/Binomial"
   ]
  },
  {
   "cell_type": "code",
   "execution_count": null,
   "id": "backed-suspension",
   "metadata": {},
   "outputs": [],
   "source": []
  }
 ],
 "metadata": {
  "kernelspec": {
   "display_name": "Python 3",
   "language": "python",
   "name": "python3"
  },
  "language_info": {
   "codemirror_mode": {
    "name": "ipython",
    "version": 3
   },
   "file_extension": ".py",
   "mimetype": "text/x-python",
   "name": "python",
   "nbconvert_exporter": "python",
   "pygments_lexer": "ipython3",
   "version": "3.7.3"
  }
 },
 "nbformat": 4,
 "nbformat_minor": 5
}
